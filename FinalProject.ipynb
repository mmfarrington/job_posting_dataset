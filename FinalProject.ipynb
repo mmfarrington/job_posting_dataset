{
 "cells": [
  {
   "cell_type": "markdown",
   "metadata": {},
   "source": [
    "## Final Project Submission \n",
    "## Machine Learning Models to Identify Fradulent Job Postings\n",
    "#### Miriam Farrington\n",
    "#### CIS600 - Data Mining\n",
    "#### Syracuse University - Spring 2020 "
   ]
  },
  {
   "cell_type": "markdown",
   "metadata": {},
   "source": [
    "In this final project, I am attempting to use several data mining techniques we learned in the course to build and train various machine learning models which can predict whether or not a given job posting is fradulent or not (aka a 'fake' job posting). I will also perform EDA on this data set prior to building the models.\n",
    "\n",
    "The data set I am using to build and train the models is taken from the following Kaggle link: \n",
    "\n",
    "https://www.kaggle.com/shivamb/real-or-fake-fake-jobposting-prediction/data#\n",
    "\n",
    "This dataset contains 18K job descriptions out of which about 800 are fake. This data set is in .csv format and contains 17881 rows and 18 columns including the target class label column. "
   ]
  },
  {
   "cell_type": "markdown",
   "metadata": {},
   "source": [
    "# Section 1 - Data Preparation"
   ]
  },
  {
   "cell_type": "code",
   "execution_count": 1,
   "metadata": {},
   "outputs": [],
   "source": [
    "import pandas as pd \n",
    "import numpy as np"
   ]
  },
  {
   "cell_type": "code",
   "execution_count": 2,
   "metadata": {},
   "outputs": [],
   "source": [
    "#Load the training data set into a pandas dataframe\n",
    "train_df = pd.read_csv(\"fake_job_postings.csv\")"
   ]
  },
  {
   "cell_type": "code",
   "execution_count": 3,
   "metadata": {},
   "outputs": [
    {
     "data": {
      "text/plain": [
       "(17880, 18)"
      ]
     },
     "execution_count": 3,
     "metadata": {},
     "output_type": "execute_result"
    }
   ],
   "source": [
    "#get basic info about the dataframe (# of rows & columns)\n",
    "train_df.shape"
   ]
  },
  {
   "cell_type": "code",
   "execution_count": 4,
   "metadata": {},
   "outputs": [
    {
     "data": {
      "text/html": [
       "<div>\n",
       "<style scoped>\n",
       "    .dataframe tbody tr th:only-of-type {\n",
       "        vertical-align: middle;\n",
       "    }\n",
       "\n",
       "    .dataframe tbody tr th {\n",
       "        vertical-align: top;\n",
       "    }\n",
       "\n",
       "    .dataframe thead th {\n",
       "        text-align: right;\n",
       "    }\n",
       "</style>\n",
       "<table border=\"1\" class=\"dataframe\">\n",
       "  <thead>\n",
       "    <tr style=\"text-align: right;\">\n",
       "      <th></th>\n",
       "      <th>job_id</th>\n",
       "      <th>title</th>\n",
       "      <th>location</th>\n",
       "      <th>department</th>\n",
       "      <th>salary_range</th>\n",
       "      <th>company_profile</th>\n",
       "      <th>description</th>\n",
       "      <th>requirements</th>\n",
       "      <th>benefits</th>\n",
       "      <th>telecommuting</th>\n",
       "      <th>has_company_logo</th>\n",
       "      <th>has_questions</th>\n",
       "      <th>employment_type</th>\n",
       "      <th>required_experience</th>\n",
       "      <th>required_education</th>\n",
       "      <th>industry</th>\n",
       "      <th>function</th>\n",
       "      <th>fraudulent</th>\n",
       "    </tr>\n",
       "  </thead>\n",
       "  <tbody>\n",
       "    <tr>\n",
       "      <th>0</th>\n",
       "      <td>1</td>\n",
       "      <td>Marketing Intern</td>\n",
       "      <td>US, NY, New York</td>\n",
       "      <td>Marketing</td>\n",
       "      <td>NaN</td>\n",
       "      <td>We're Food52, and we've created a groundbreaki...</td>\n",
       "      <td>Food52, a fast-growing, James Beard Award-winn...</td>\n",
       "      <td>Experience with content management systems a m...</td>\n",
       "      <td>NaN</td>\n",
       "      <td>0</td>\n",
       "      <td>1</td>\n",
       "      <td>0</td>\n",
       "      <td>Other</td>\n",
       "      <td>Internship</td>\n",
       "      <td>NaN</td>\n",
       "      <td>NaN</td>\n",
       "      <td>Marketing</td>\n",
       "      <td>0</td>\n",
       "    </tr>\n",
       "    <tr>\n",
       "      <th>1</th>\n",
       "      <td>2</td>\n",
       "      <td>Customer Service - Cloud Video Production</td>\n",
       "      <td>NZ, , Auckland</td>\n",
       "      <td>Success</td>\n",
       "      <td>NaN</td>\n",
       "      <td>90 Seconds, the worlds Cloud Video Production ...</td>\n",
       "      <td>Organised - Focused - Vibrant - Awesome!Do you...</td>\n",
       "      <td>What we expect from you:Your key responsibilit...</td>\n",
       "      <td>What you will get from usThrough being part of...</td>\n",
       "      <td>0</td>\n",
       "      <td>1</td>\n",
       "      <td>0</td>\n",
       "      <td>Full-time</td>\n",
       "      <td>Not Applicable</td>\n",
       "      <td>NaN</td>\n",
       "      <td>Marketing and Advertising</td>\n",
       "      <td>Customer Service</td>\n",
       "      <td>0</td>\n",
       "    </tr>\n",
       "    <tr>\n",
       "      <th>2</th>\n",
       "      <td>3</td>\n",
       "      <td>Commissioning Machinery Assistant (CMA)</td>\n",
       "      <td>US, IA, Wever</td>\n",
       "      <td>NaN</td>\n",
       "      <td>NaN</td>\n",
       "      <td>Valor Services provides Workforce Solutions th...</td>\n",
       "      <td>Our client, located in Houston, is actively se...</td>\n",
       "      <td>Implement pre-commissioning and commissioning ...</td>\n",
       "      <td>NaN</td>\n",
       "      <td>0</td>\n",
       "      <td>1</td>\n",
       "      <td>0</td>\n",
       "      <td>NaN</td>\n",
       "      <td>NaN</td>\n",
       "      <td>NaN</td>\n",
       "      <td>NaN</td>\n",
       "      <td>NaN</td>\n",
       "      <td>0</td>\n",
       "    </tr>\n",
       "    <tr>\n",
       "      <th>3</th>\n",
       "      <td>4</td>\n",
       "      <td>Account Executive - Washington DC</td>\n",
       "      <td>US, DC, Washington</td>\n",
       "      <td>Sales</td>\n",
       "      <td>NaN</td>\n",
       "      <td>Our passion for improving quality of life thro...</td>\n",
       "      <td>THE COMPANY: ESRI – Environmental Systems Rese...</td>\n",
       "      <td>EDUCATION: Bachelor’s or Master’s in GIS, busi...</td>\n",
       "      <td>Our culture is anything but corporate—we have ...</td>\n",
       "      <td>0</td>\n",
       "      <td>1</td>\n",
       "      <td>0</td>\n",
       "      <td>Full-time</td>\n",
       "      <td>Mid-Senior level</td>\n",
       "      <td>Bachelor's Degree</td>\n",
       "      <td>Computer Software</td>\n",
       "      <td>Sales</td>\n",
       "      <td>0</td>\n",
       "    </tr>\n",
       "    <tr>\n",
       "      <th>4</th>\n",
       "      <td>5</td>\n",
       "      <td>Bill Review Manager</td>\n",
       "      <td>US, FL, Fort Worth</td>\n",
       "      <td>NaN</td>\n",
       "      <td>NaN</td>\n",
       "      <td>SpotSource Solutions LLC is a Global Human Cap...</td>\n",
       "      <td>JOB TITLE: Itemization Review ManagerLOCATION:...</td>\n",
       "      <td>QUALIFICATIONS:RN license in the State of Texa...</td>\n",
       "      <td>Full Benefits Offered</td>\n",
       "      <td>0</td>\n",
       "      <td>1</td>\n",
       "      <td>1</td>\n",
       "      <td>Full-time</td>\n",
       "      <td>Mid-Senior level</td>\n",
       "      <td>Bachelor's Degree</td>\n",
       "      <td>Hospital &amp; Health Care</td>\n",
       "      <td>Health Care Provider</td>\n",
       "      <td>0</td>\n",
       "    </tr>\n",
       "  </tbody>\n",
       "</table>\n",
       "</div>"
      ],
      "text/plain": [
       "   job_id                                      title            location  \\\n",
       "0       1                           Marketing Intern    US, NY, New York   \n",
       "1       2  Customer Service - Cloud Video Production      NZ, , Auckland   \n",
       "2       3    Commissioning Machinery Assistant (CMA)       US, IA, Wever   \n",
       "3       4          Account Executive - Washington DC  US, DC, Washington   \n",
       "4       5                        Bill Review Manager  US, FL, Fort Worth   \n",
       "\n",
       "  department salary_range                                    company_profile  \\\n",
       "0  Marketing          NaN  We're Food52, and we've created a groundbreaki...   \n",
       "1    Success          NaN  90 Seconds, the worlds Cloud Video Production ...   \n",
       "2        NaN          NaN  Valor Services provides Workforce Solutions th...   \n",
       "3      Sales          NaN  Our passion for improving quality of life thro...   \n",
       "4        NaN          NaN  SpotSource Solutions LLC is a Global Human Cap...   \n",
       "\n",
       "                                         description  \\\n",
       "0  Food52, a fast-growing, James Beard Award-winn...   \n",
       "1  Organised - Focused - Vibrant - Awesome!Do you...   \n",
       "2  Our client, located in Houston, is actively se...   \n",
       "3  THE COMPANY: ESRI – Environmental Systems Rese...   \n",
       "4  JOB TITLE: Itemization Review ManagerLOCATION:...   \n",
       "\n",
       "                                        requirements  \\\n",
       "0  Experience with content management systems a m...   \n",
       "1  What we expect from you:Your key responsibilit...   \n",
       "2  Implement pre-commissioning and commissioning ...   \n",
       "3  EDUCATION: Bachelor’s or Master’s in GIS, busi...   \n",
       "4  QUALIFICATIONS:RN license in the State of Texa...   \n",
       "\n",
       "                                            benefits  telecommuting  \\\n",
       "0                                                NaN              0   \n",
       "1  What you will get from usThrough being part of...              0   \n",
       "2                                                NaN              0   \n",
       "3  Our culture is anything but corporate—we have ...              0   \n",
       "4                              Full Benefits Offered              0   \n",
       "\n",
       "   has_company_logo  has_questions employment_type required_experience  \\\n",
       "0                 1              0           Other          Internship   \n",
       "1                 1              0       Full-time      Not Applicable   \n",
       "2                 1              0             NaN                 NaN   \n",
       "3                 1              0       Full-time    Mid-Senior level   \n",
       "4                 1              1       Full-time    Mid-Senior level   \n",
       "\n",
       "  required_education                   industry              function  \\\n",
       "0                NaN                        NaN             Marketing   \n",
       "1                NaN  Marketing and Advertising      Customer Service   \n",
       "2                NaN                        NaN                   NaN   \n",
       "3  Bachelor's Degree          Computer Software                 Sales   \n",
       "4  Bachelor's Degree     Hospital & Health Care  Health Care Provider   \n",
       "\n",
       "   fraudulent  \n",
       "0           0  \n",
       "1           0  \n",
       "2           0  \n",
       "3           0  \n",
       "4           0  "
      ]
     },
     "execution_count": 4,
     "metadata": {},
     "output_type": "execute_result"
    }
   ],
   "source": [
    "#print out 1st 5 rows of the dataframe \n",
    "#This data set has a lot of descriptive features so I will plan to do some encoding to handle this later\n",
    "train_df.head(5)"
   ]
  },
  {
   "cell_type": "code",
   "execution_count": 5,
   "metadata": {},
   "outputs": [
    {
     "data": {
      "text/plain": [
       "job_id                  int64\n",
       "title                  object\n",
       "location               object\n",
       "department             object\n",
       "salary_range           object\n",
       "company_profile        object\n",
       "description            object\n",
       "requirements           object\n",
       "benefits               object\n",
       "telecommuting           int64\n",
       "has_company_logo        int64\n",
       "has_questions           int64\n",
       "employment_type        object\n",
       "required_experience    object\n",
       "required_education     object\n",
       "industry               object\n",
       "function               object\n",
       "fraudulent              int64\n",
       "dtype: object"
      ]
     },
     "execution_count": 5,
     "metadata": {},
     "output_type": "execute_result"
    }
   ],
   "source": [
    "#get a list of the column headers and the datatypes in each column\n",
    "train_df.dtypes"
   ]
  },
  {
   "cell_type": "markdown",
   "metadata": {},
   "source": [
    "## Identifying Issues in the Data Set"
   ]
  },
  {
   "cell_type": "code",
   "execution_count": 6,
   "metadata": {},
   "outputs": [
    {
     "name": "stdout",
     "output_type": "stream",
     "text": [
      "There were 0 duplicate records identified and removed in the data set\n"
     ]
    }
   ],
   "source": [
    "#First I am checking for and remove duplicated data in the dataset\n",
    "\n",
    "duplicates = train_df.drop_duplicates(keep=\"first\")\n",
    "diff = train_df.shape[0] - duplicates.shape[0]\n",
    "print(f\"There were {diff} duplicate records identified and removed in the data set\")"
   ]
  },
  {
   "cell_type": "code",
   "execution_count": 7,
   "metadata": {},
   "outputs": [
    {
     "name": "stdout",
     "output_type": "stream",
     "text": [
      "Null values detected in entire data set: \n",
      "\n"
     ]
    },
    {
     "data": {
      "text/plain": [
       "job_id                  0.00\n",
       "title                   0.00\n",
       "location                1.94\n",
       "department             64.58\n",
       "salary_range           83.96\n",
       "company_profile        18.50\n",
       "description             0.01\n",
       "requirements           15.07\n",
       "benefits               40.32\n",
       "telecommuting           0.00\n",
       "has_company_logo        0.00\n",
       "has_questions           0.00\n",
       "employment_type        19.41\n",
       "required_experience    39.43\n",
       "required_education     45.33\n",
       "industry               27.42\n",
       "function               36.10\n",
       "fraudulent              0.00\n",
       "dtype: float64"
      ]
     },
     "execution_count": 7,
     "metadata": {},
     "output_type": "execute_result"
    }
   ],
   "source": [
    "#Next I will try to identify missing values in the data set and calculate the percentage of each column values missing\n",
    "\n",
    "print (\"Null values detected in entire data set: \\n\") \n",
    "round(100*(train_df.isnull().sum()/len(train_df.index)),2)"
   ]
  },
  {
   "cell_type": "code",
   "execution_count": 8,
   "metadata": {},
   "outputs": [],
   "source": [
    "## The column \"salary range\" is > 80% null\n",
    "## It doesn't look like this is enough to inform a model, I am going to drop this column \n",
    "\n",
    "train_df = train_df.drop('salary_range', axis=1)"
   ]
  },
  {
   "cell_type": "markdown",
   "metadata": {},
   "source": [
    "#### The columns in this data set are mostly categorical, and have a lot of missing values in some of the columns. Because of that I need to decide how to handle the missing values. Without analyzing every row in the data set, it looks like the missing values are MAR and not MNAR (we expect not all job posters provide all the data points), in this case I am going to take the approach of bucketing (replace) the missing values depending on the type of data stored in the column."
   ]
  },
  {
   "cell_type": "code",
   "execution_count": 9,
   "metadata": {},
   "outputs": [],
   "source": [
    "## I am going replace the text attribute NaN values with blanks and the categorical NaN values with 'Unspecified'\n",
    "## I am separately examining each column content to determine which to fill \n",
    "## Where possible I am using existing categories to bulk the missing values\n",
    "\n",
    "train_df['location'] = train_df['location'].fillna(value='Other')\n",
    "train_df['department'] = train_df['department'].fillna(value='Other')\n",
    "train_df['company_profile'] = train_df['company_profile'].fillna(value='')\n",
    "train_df['description'] = train_df['description'].fillna(value='')\n",
    "train_df['requirements'] = train_df['requirements'].fillna(value='')\n",
    "train_df['benefits'] = train_df['benefits'].fillna(value='')\n",
    "train_df['employment_type'] = train_df['employment_type'].fillna(value='Other')\n",
    "train_df['required_experience'] = train_df['required_experience'].fillna(value='Not Applicable')\n",
    "train_df['required_education'] = train_df['required_education'].fillna(value='Unspecified')\n",
    "train_df['industry'] = train_df['industry'].fillna(value='Other')\n",
    "train_df['function'] = train_df['function'].fillna(value='Other')\n"
   ]
  },
  {
   "cell_type": "code",
   "execution_count": 10,
   "metadata": {},
   "outputs": [
    {
     "data": {
      "text/plain": [
       "0"
      ]
     },
     "execution_count": 10,
     "metadata": {},
     "output_type": "execute_result"
    }
   ],
   "source": [
    "#validate the missing values are all replaced\n",
    "train_df.isnull().sum().sum()"
   ]
  },
  {
   "cell_type": "markdown",
   "metadata": {},
   "source": [
    "## Visualizing the cleaned dataset \n",
    "\n",
    "We already know that the data set is highly unbalanced because there aren't many examples of fradulent job listings, \n",
    "however it would still be helpful to know whether there are any correlations between the specific categorical attributes and higher instances of fraud; which we can more easily tell through data visualization."
   ]
  },
  {
   "cell_type": "code",
   "execution_count": 11,
   "metadata": {},
   "outputs": [],
   "source": [
    "import matplotlib.pyplot as plt \n",
    "import seaborn as sns"
   ]
  },
  {
   "cell_type": "markdown",
   "metadata": {},
   "source": [
    "#### Plotting incidents of fraudulent postings by the level of education required shows that jobs requiring a High School diploma followed by Bachelor's Degree have the highest incidence of fraud."
   ]
  },
  {
   "cell_type": "code",
   "execution_count": 12,
   "metadata": {
    "scrolled": true
   },
   "outputs": [
    {
     "data": {
      "image/png": "[encoded data removed]",
      "text/plain": [
       "<Figure size 2160x720 with 1 Axes>"
      ]
     },
     "metadata": {
      "needs_background": "light"
     },
     "output_type": "display_data"
    }
   ],
   "source": [
    "#slice by education \n",
    "chart = train_df[['required_education','fraudulent']]\n",
    "\n",
    "plt.figure(figsize=(30,10))\n",
    "sns.countplot(palette='Oranges', hue='fraudulent', y='required_education',data=chart)\n",
    "plt.show()"
   ]
  },
  {
   "cell_type": "markdown",
   "metadata": {},
   "source": [
    "#### Plotting incidence of fraud by the job function shows that Administrative and Engineering have the highest levels of fradulent postings."
   ]
  },
  {
   "cell_type": "code",
   "execution_count": 13,
   "metadata": {},
   "outputs": [
    {
     "data": {
      "image/png": "[encoded data removed]",
      "text/plain": [
       "<Figure size 2160x1440 with 1 Axes>"
      ]
     },
     "metadata": {
      "needs_background": "light"
     },
     "output_type": "display_data"
    }
   ],
   "source": [
    "#slice by function\n",
    "chart = train_df[['function','fraudulent']]\n",
    "\n",
    "plt.figure(figsize=(30,20))\n",
    "sns.countplot(palette='Oranges', hue='fraudulent', y='function',data=chart)\n",
    "plt.show()"
   ]
  },
  {
   "cell_type": "markdown",
   "metadata": {},
   "source": [
    "#### Plotting incidence of fraud by the employment type shows that Full Time postings have the highest incidence of fraud"
   ]
  },
  {
   "cell_type": "code",
   "execution_count": 14,
   "metadata": {},
   "outputs": [
    {
     "data": {
      "image/png": "[encoded data removed]",
      "text/plain": [
       "<Figure size 720x360 with 1 Axes>"
      ]
     },
     "metadata": {
      "needs_background": "light"
     },
     "output_type": "display_data"
    }
   ],
   "source": [
    "#slice by employment type \n",
    "chart = train_df[['employment_type','fraudulent']]\n",
    "\n",
    "plt.figure(figsize=(10,5))\n",
    "sns.countplot(palette='Oranges', hue='fraudulent', y='employment_type',data=chart)\n",
    "plt.show()"
   ]
  },
  {
   "cell_type": "markdown",
   "metadata": {},
   "source": [
    "#### Plotting incidence of fraud by the required experience shows that entry and mid-senior level postings have the highest incidence of fraud"
   ]
  },
  {
   "cell_type": "code",
   "execution_count": 15,
   "metadata": {},
   "outputs": [
    {
     "data": {
      "image/png": "[encoded data removed]",
      "text/plain": [
       "<Figure size 720x360 with 1 Axes>"
      ]
     },
     "metadata": {
      "needs_background": "light"
     },
     "output_type": "display_data"
    }
   ],
   "source": [
    "#slice by required experience\n",
    "chart = train_df[['required_experience','fraudulent']]\n",
    "\n",
    "plt.figure(figsize=(10,5))\n",
    "sns.countplot(palette='Oranges', hue='fraudulent', y='required_experience',data=chart)\n",
    "plt.show()"
   ]
  },
  {
   "cell_type": "markdown",
   "metadata": {},
   "source": [
    "#### Plotting incidence of fraud by whether or not there is a company logo shows that postings with no company logo have a higher incidence of fraud. This matches my intuition that a fraud posting probably won't bother to create a logo."
   ]
  },
  {
   "cell_type": "code",
   "execution_count": 16,
   "metadata": {},
   "outputs": [
    {
     "data": {
      "image/png": "[encoded data removed]",
      "text/plain": [
       "<Figure size 360x360 with 1 Axes>"
      ]
     },
     "metadata": {
      "needs_background": "light"
     },
     "output_type": "display_data"
    }
   ],
   "source": [
    "#slice by company logo\n",
    "chart = train_df[['has_company_logo','fraudulent']]\n",
    "\n",
    "plt.figure(figsize=(5,5))\n",
    "sns.countplot(palette='Oranges', hue='fraudulent', y='has_company_logo',data=chart)\n",
    "plt.show()"
   ]
  },
  {
   "cell_type": "markdown",
   "metadata": {},
   "source": [
    "#### Plotting incidence of fraud by whether or not there are questions shows that postings with no questions have a higher incidence of fraud. This also matches my intuition that a fraud posting probably won't bother to create questions for job candidates."
   ]
  },
  {
   "cell_type": "code",
   "execution_count": 17,
   "metadata": {},
   "outputs": [
    {
     "data": {
      "image/png": "[encoded data removed]",
      "text/plain": [
       "<Figure size 360x360 with 1 Axes>"
      ]
     },
     "metadata": {
      "needs_background": "light"
     },
     "output_type": "display_data"
    }
   ],
   "source": [
    "#slice by company logo\n",
    "chart = train_df[['has_questions','fraudulent']]\n",
    "\n",
    "plt.figure(figsize=(5,5))\n",
    "sns.countplot(palette='Oranges', hue='fraudulent', y='has_questions',data=chart)\n",
    "plt.show()"
   ]
  },
  {
   "cell_type": "markdown",
   "metadata": {},
   "source": [
    "#### Now that I have visualized the data it is easier to understand which of the categorical attributes values are associated with higher incidence of fraud. This way I can see whether the models also identify and label fraudulent posting based on similar categorical values."
   ]
  },
  {
   "cell_type": "markdown",
   "metadata": {},
   "source": [
    "# Section 2: Build, tune and evaluate several machine learning classifier models to label fraudulent postings\n",
    "\n",
    "#### In this section I am going to build various classifier models and then attempt to tune them to achieve higher levels of accuracy when identifying the fradulent job postings. I will split up this data set into train and test to allow the model to work on unseen data. I will also do a validation holdout on the data and plot the performance of the test vs. validation results to try and ensure my models aren't overfitting."
   ]
  },
  {
   "cell_type": "code",
   "execution_count": 18,
   "metadata": {},
   "outputs": [],
   "source": [
    "#Before attempting to convert categorical variables I'm going to drop the free text columns that can't be converted\n",
    "#also I am dropping the job id column since it's an id field that won't inform the model \n",
    "\n",
    "train_df = train_df.drop(['job_id','company_profile','description','benefits','requirements'],axis=1)"
   ]
  },
  {
   "cell_type": "code",
   "execution_count": 19,
   "metadata": {},
   "outputs": [
    {
     "data": {
      "text/plain": [
       "(17880, 15864)"
      ]
     },
     "execution_count": 19,
     "metadata": {},
     "output_type": "execute_result"
    }
   ],
   "source": [
    "#I am using pd.get_dummies to convert the categorical attributes to boolean columns to be used in the models\n",
    "#Get dummies will handle creation of the new columns representing possible categorical values as numerical 1/0\n",
    "\n",
    "train_df = pd.get_dummies(train_df, prefix_sep = '_', drop_first=True)\n",
    "train_df.shape"
   ]
  },
  {
   "cell_type": "code",
   "execution_count": 20,
   "metadata": {},
   "outputs": [],
   "source": [
    "from sklearn.model_selection import train_test_split\n",
    "from sklearn import metrics\n",
    "from sklearn.datasets import make_classification\n",
    "from sklearn.metrics import roc_curve\n",
    "from sklearn.metrics import roc_auc_score\n",
    "np.random.seed(0)"
   ]
  },
  {
   "cell_type": "code",
   "execution_count": 21,
   "metadata": {},
   "outputs": [],
   "source": [
    "# Dropping class label from features X\n",
    "X = train_df.drop('fraudulent',axis=1)\n",
    "\n",
    "# Target class label assigned to y\n",
    "y = train_df['fraudulent']\n",
    "\n",
    "# 70/30 split of train/test data\n",
    "X_train, X_test, y_train, y_test = train_test_split(X, y, test_size=0.30, random_state=1)"
   ]
  },
  {
   "cell_type": "markdown",
   "metadata": {},
   "source": [
    "### Random Forest Classifier\n",
    "#### In past assignments, I often had the highest model prediction accuracy scores using the RFC so I will try it here first. Initially I am not trying to use any hyperparameter optimization techniques."
   ]
  },
  {
   "cell_type": "code",
   "execution_count": 22,
   "metadata": {},
   "outputs": [],
   "source": [
    "from sklearn.ensemble import RandomForestClassifier \n",
    "from sklearn.metrics import confusion_matrix,classification_report\n",
    "from time import time"
   ]
  },
  {
   "cell_type": "code",
   "execution_count": 23,
   "metadata": {},
   "outputs": [
    {
     "name": "stdout",
     "output_type": "stream",
     "text": [
      "RandomForestClassifier took 48.38 seconds\n",
      "Accuracy: 98.0%\n",
      "Parameters:  {'bootstrap': True, 'ccp_alpha': 0.0, 'class_weight': None, 'criterion': 'gini', 'max_depth': None, 'max_features': 'auto', 'max_leaf_nodes': None, 'max_samples': None, 'min_impurity_decrease': 0.0, 'min_impurity_split': None, 'min_samples_leaf': 1, 'min_samples_split': 2, 'min_weight_fraction_leaf': 0.0, 'n_estimators': 100, 'n_jobs': None, 'oob_score': False, 'random_state': None, 'verbose': 0, 'warm_start': False}\n"
     ]
    }
   ],
   "source": [
    "rfc = RandomForestClassifier() # define the model \n",
    "\n",
    "start = time()\n",
    "#fit the classifier to the training data \n",
    "rfc.fit(X_train, y_train)\n",
    "\n",
    "print(\"RandomForestClassifier took %.2f seconds\"\n",
    "      % (time() - start,))\n",
    "\n",
    "print(f\"Accuracy: {round(rfc.score(X_test, y_test)*100)}%\")\n",
    "\n",
    "print(\"Parameters: \", rfc.get_params())"
   ]
  },
  {
   "cell_type": "code",
   "execution_count": 24,
   "metadata": {},
   "outputs": [
    {
     "name": "stdout",
     "output_type": "stream",
     "text": [
      "              precision    recall  f1-score   support\n",
      "\n",
      "           0       0.98      1.00      0.99      5143\n",
      "           1       0.99      0.55      0.71       221\n",
      "\n",
      "    accuracy                           0.98      5364\n",
      "   macro avg       0.99      0.78      0.85      5364\n",
      "weighted avg       0.98      0.98      0.98      5364\n",
      "\n"
     ]
    }
   ],
   "source": [
    "#print the confusion matrix and classifier scores for the model\n",
    "y_pred = rfc.predict(X_test)\n",
    "confusion_matrix(y_test, y_pred)\n",
    "\n",
    "print(classification_report(y_test, y_pred))"
   ]
  },
  {
   "cell_type": "code",
   "execution_count": 25,
   "metadata": {},
   "outputs": [
    {
     "name": "stdout",
     "output_type": "stream",
     "text": [
      "0 Classifier: ROC AUC=0.500\n",
      "RFC Classifier: ROC AUC=0.962\n"
     ]
    },
    {
     "data": {
      "image/png": "[encoded data removed]",
      "text/plain": [
       "<Figure size 432x288 with 1 Axes>"
      ]
     },
     "metadata": {
      "needs_background": "light"
     },
     "output_type": "display_data"
    }
   ],
   "source": [
    "# plot the ROC curve and calculate the AUC\n",
    "# create a classifier that always picks 0 choice (to compare result to the classifier model)\n",
    "ns_probs = [0 for _ in range(len(y_test))]\n",
    "lr_probs = rfc.predict_proba(X_test)\n",
    "\n",
    "# keep probabilities for the positive outcome only\n",
    "lr_probs = lr_probs[:, 1]\n",
    "\n",
    "# calculate scores\n",
    "ns_auc = roc_auc_score(y_test, ns_probs)\n",
    "lr_auc = roc_auc_score(y_test, lr_probs)\n",
    "\n",
    "# summarize scores\n",
    "print('0 Classifier: ROC AUC=%.3f' % (ns_auc))\n",
    "print('RFC Classifier: ROC AUC=%.3f' % (lr_auc))\n",
    "\n",
    "# calculate roc curves\n",
    "ns_fpr, ns_tpr, _ = roc_curve(y_test, ns_probs)\n",
    "lr_fpr, lr_tpr, _ = roc_curve(y_test, lr_probs)\n",
    "\n",
    "# plot the roc curve for the model\n",
    "plt.plot(ns_fpr, ns_tpr, linestyle='--', label='0 Classifier')\n",
    "plt.plot(lr_fpr, lr_tpr, marker='.', label='RFC Classifier')\n",
    "\n",
    "# axis labels\n",
    "plt.xlabel('False Positive Rate')\n",
    "plt.ylabel('True Positive Rate')\n",
    "\n",
    "# show the legend\n",
    "plt.legend()\n",
    "\n",
    "# show the plot\n",
    "plt.show()"
   ]
  },
  {
   "cell_type": "markdown",
   "metadata": {},
   "source": [
    "#### On the first attempt, RFC achieved a high accuracy score of 98%, I can try to improve this score further; however first I want to try and compare this with results from other classifiers we studied in the course. However, I will define a cross validation and see whether utilizing cross validation can improve accuracy any further."
   ]
  },
  {
   "cell_type": "code",
   "execution_count": 26,
   "metadata": {},
   "outputs": [],
   "source": [
    "from sklearn.model_selection import KFold\n",
    "from sklearn.model_selection import ShuffleSplit, cross_val_score"
   ]
  },
  {
   "cell_type": "code",
   "execution_count": 27,
   "metadata": {},
   "outputs": [
    {
     "name": "stdout",
     "output_type": "stream",
     "text": [
      "Cross validation took 413.10 seconds\n",
      "Accuracy: 97.73%\n"
     ]
    }
   ],
   "source": [
    "#calculate the cross validation score\n",
    "cv = ShuffleSplit(n_splits=100, test_size=0.3, random_state=16)\n",
    "cv = KFold(n_splits=10, shuffle=True, random_state=16)\n",
    "\n",
    "start = time()\n",
    "results = cross_val_score(rfc, X_train, y_train, cv=cv)\n",
    "print(\"Cross validation took %.2f seconds\"\n",
    "      % (time() - start,))\n",
    "print(f\"Accuracy: {round(results.mean()*100, 2)}%\")"
   ]
  },
  {
   "cell_type": "markdown",
   "metadata": {},
   "source": [
    "#### Using cross-validation actually reduces the accuracy slightly by about 0.2%, I need to modify the default parameters of the cv further to improve this.  \n",
    "\n",
    "#### Next I want to get the relative feature importance for the features used by the RFC. Printing this out I can see that 'has_company-logo' had the highest importance in this model; which aligns with what I saw during visualization of the data as well, most fraud was associated with no logo. We also see Administrative positions as having somewhat importance; which also aligns with the correlations seen earlier."
   ]
  },
  {
   "cell_type": "code",
   "execution_count": 28,
   "metadata": {},
   "outputs": [
    {
     "data": {
      "text/html": [
       "<div>\n",
       "<style scoped>\n",
       "    .dataframe tbody tr th:only-of-type {\n",
       "        vertical-align: middle;\n",
       "    }\n",
       "\n",
       "    .dataframe tbody tr th {\n",
       "        vertical-align: top;\n",
       "    }\n",
       "\n",
       "    .dataframe thead th {\n",
       "        text-align: right;\n",
       "    }\n",
       "</style>\n",
       "<table border=\"1\" class=\"dataframe\">\n",
       "  <thead>\n",
       "    <tr style=\"text-align: right;\">\n",
       "      <th></th>\n",
       "      <th>importance</th>\n",
       "    </tr>\n",
       "  </thead>\n",
       "  <tbody>\n",
       "    <tr>\n",
       "      <th>has_company_logo</th>\n",
       "      <td>0.036937</td>\n",
       "    </tr>\n",
       "    <tr>\n",
       "      <th>industry_Oil &amp; Energy</th>\n",
       "      <td>0.017447</td>\n",
       "    </tr>\n",
       "    <tr>\n",
       "      <th>location_US, TX, Houston</th>\n",
       "      <td>0.015252</td>\n",
       "    </tr>\n",
       "    <tr>\n",
       "      <th>title_Data Entry Admin/Clerical Positions - Work From Home</th>\n",
       "      <td>0.014794</td>\n",
       "    </tr>\n",
       "    <tr>\n",
       "      <th>function_Administrative</th>\n",
       "      <td>0.014378</td>\n",
       "    </tr>\n",
       "    <tr>\n",
       "      <th>...</th>\n",
       "      <td>...</td>\n",
       "    </tr>\n",
       "    <tr>\n",
       "      <th>title_Risk Analyst</th>\n",
       "      <td>0.000000</td>\n",
       "    </tr>\n",
       "    <tr>\n",
       "      <th>title_Rising Star (3rd Key Holder) - St. Louis Galleria</th>\n",
       "      <td>0.000000</td>\n",
       "    </tr>\n",
       "    <tr>\n",
       "      <th>title_Rising Star (3rd Key Holder) - Oakbrook Center</th>\n",
       "      <td>0.000000</td>\n",
       "    </tr>\n",
       "    <tr>\n",
       "      <th>title_Rising Star (3rd Key Holder) - Kenwood Towne Centre</th>\n",
       "      <td>0.000000</td>\n",
       "    </tr>\n",
       "    <tr>\n",
       "      <th>title_Recruitment Manager (Maternity cover)</th>\n",
       "      <td>0.000000</td>\n",
       "    </tr>\n",
       "  </tbody>\n",
       "</table>\n",
       "<p>15863 rows × 1 columns</p>\n",
       "</div>"
      ],
      "text/plain": [
       "                                                    importance\n",
       "has_company_logo                                      0.036937\n",
       "industry_Oil & Energy                                 0.017447\n",
       "location_US, TX, Houston                              0.015252\n",
       "title_Data Entry Admin/Clerical Positions - Wor...    0.014794\n",
       "function_Administrative                               0.014378\n",
       "...                                                        ...\n",
       "title_Risk Analyst                                    0.000000\n",
       "title_Rising Star (3rd Key Holder) - St. Louis ...    0.000000\n",
       "title_Rising Star (3rd Key Holder) - Oakbrook C...    0.000000\n",
       "title_Rising Star (3rd Key Holder) - Kenwood To...    0.000000\n",
       "title_Recruitment Manager (Maternity cover)           0.000000\n",
       "\n",
       "[15863 rows x 1 columns]"
      ]
     },
     "execution_count": 28,
     "metadata": {},
     "output_type": "execute_result"
    }
   ],
   "source": [
    "#obtain the relative feature importance of the rf classifier\n",
    "feature_imp = pd.DataFrame(rfc.feature_importances_, index=X_train.columns,\n",
    "columns=['importance']).sort_values('importance', ascending=False)\n",
    "feature_imp"
   ]
  },
  {
   "cell_type": "markdown",
   "metadata": {},
   "source": [
    "### K Nearest Neighbors Classifier "
   ]
  },
  {
   "cell_type": "code",
   "execution_count": 29,
   "metadata": {},
   "outputs": [],
   "source": [
    "from sklearn.neighbors import KNeighborsClassifier"
   ]
  },
  {
   "cell_type": "code",
   "execution_count": 30,
   "metadata": {},
   "outputs": [
    {
     "name": "stdout",
     "output_type": "stream",
     "text": [
      "KNeighborsClassifier took 27.72 seconds\n",
      "Accuracy: 98.0%\n",
      "Parameters:  {'algorithm': 'auto', 'leaf_size': 30, 'metric': 'minkowski', 'metric_params': None, 'n_jobs': None, 'n_neighbors': 5, 'p': 2, 'weights': 'uniform'}\n"
     ]
    }
   ],
   "source": [
    "knn = KNeighborsClassifier()\n",
    "\n",
    "start = time()\n",
    "#fit the classifier to the training data \n",
    "knn.fit(X_train, y_train)\n",
    "\n",
    "print(\"KNeighborsClassifier took %.2f seconds\"\n",
    "      % (time() - start,))\n",
    "\n",
    "print(f\"Accuracy: {round(knn.score(X_test, y_test)*100)}%\")\n",
    "print(\"Parameters: \", knn.get_params())"
   ]
  },
  {
   "cell_type": "code",
   "execution_count": 33,
   "metadata": {},
   "outputs": [
    {
     "name": "stdout",
     "output_type": "stream",
     "text": [
      "              precision    recall  f1-score   support\n",
      "\n",
      "           0       0.99      0.99      0.99      5143\n",
      "           1       0.76      0.65      0.70       221\n",
      "\n",
      "    accuracy                           0.98      5364\n",
      "   macro avg       0.87      0.82      0.85      5364\n",
      "weighted avg       0.98      0.98      0.98      5364\n",
      "\n"
     ]
    }
   ],
   "source": [
    "#print the confusion matrix and classifier scores for the model\n",
    "y_pred = knn.predict(X_test)\n",
    "confusion_matrix(y_test, y_pred)\n",
    "\n",
    "print(classification_report(y_test, y_pred))"
   ]
  },
  {
   "cell_type": "markdown",
   "metadata": {},
   "source": [
    "#### With no special modifications or parameter tunings on fixed parameters inputs, the K nearest neighbors classifier achieves a relatively high average accuracy of 98%. "
   ]
  },
  {
   "cell_type": "code",
   "execution_count": 34,
   "metadata": {},
   "outputs": [
    {
     "name": "stdout",
     "output_type": "stream",
     "text": [
      "0 Classifier: ROC AUC=0.500\n",
      "KNN Classifier: ROC AUC=0.921\n"
     ]
    },
    {
     "data": {
      "image/png": "[encoded data removed]",
      "text/plain": [
       "<Figure size 432x288 with 1 Axes>"
      ]
     },
     "metadata": {
      "needs_background": "light"
     },
     "output_type": "display_data"
    }
   ],
   "source": [
    "# plot the ROC curve and calculate the AUC\n",
    "# create a classifier that always picks 0 choice (to compare result to the classifier model)\n",
    "ns_probs = [0 for _ in range(len(y_test))]\n",
    "lr_probs = knn.predict_proba(X_test)\n",
    "\n",
    "# keep probabilities for the positive outcome only\n",
    "lr_probs = lr_probs[:, 1]\n",
    "\n",
    "# calculate scores\n",
    "ns_auc = roc_auc_score(y_test, ns_probs)\n",
    "lr_auc = roc_auc_score(y_test, lr_probs)\n",
    "\n",
    "# summarize scores\n",
    "print('0 Classifier: ROC AUC=%.3f' % (ns_auc))\n",
    "print('KNN Classifier: ROC AUC=%.3f' % (lr_auc))\n",
    "\n",
    "# calculate roc curves\n",
    "ns_fpr, ns_tpr, _ = roc_curve(y_test, ns_probs)\n",
    "lr_fpr, lr_tpr, _ = roc_curve(y_test, lr_probs)\n",
    "\n",
    "# plot the roc curve for the model\n",
    "plt.plot(ns_fpr, ns_tpr, linestyle='--', label='0 Classifier')\n",
    "plt.plot(lr_fpr, lr_tpr, marker='.', label='KNN Classifier')\n",
    "\n",
    "# axis labels\n",
    "plt.xlabel('False Positive Rate')\n",
    "plt.ylabel('True Positive Rate')\n",
    "\n",
    "# show the legend\n",
    "plt.legend()\n",
    "\n",
    "# show the plot\n",
    "plt.show()"
   ]
  },
  {
   "cell_type": "markdown",
   "metadata": {},
   "source": [
    "### Gaussian Naieve Bayes Classifier "
   ]
  },
  {
   "cell_type": "code",
   "execution_count": 35,
   "metadata": {},
   "outputs": [],
   "source": [
    "from sklearn.naive_bayes import GaussianNB"
   ]
  },
  {
   "cell_type": "code",
   "execution_count": 37,
   "metadata": {},
   "outputs": [
    {
     "name": "stdout",
     "output_type": "stream",
     "text": [
      "Naieve Bayes Classifier took 9.53 seconds\n",
      "Accuracy: 81.0%\n",
      "Parameters:  {'priors': None, 'var_smoothing': 1e-09}\n"
     ]
    }
   ],
   "source": [
    "nb = GaussianNB()\n",
    "\n",
    "start = time()\n",
    "#fit the classifier to the training data \n",
    "nb.fit(X_train, y_train)\n",
    "print(\"Naieve Bayes Classifier took %.2f seconds\"\n",
    "      % (time() - start,))\n",
    "\n",
    "y_pred = nb.predict(X_test)\n",
    "print(f\"Accuracy: {round(nb.score(X_test, y_test)*100)}%\")\n",
    "print(\"Parameters: \", nb.get_params())"
   ]
  },
  {
   "cell_type": "code",
   "execution_count": 38,
   "metadata": {},
   "outputs": [
    {
     "name": "stdout",
     "output_type": "stream",
     "text": [
      "              precision    recall  f1-score   support\n",
      "\n",
      "           0       0.99      0.81      0.89      5143\n",
      "           1       0.16      0.85      0.27       221\n",
      "\n",
      "    accuracy                           0.81      5364\n",
      "   macro avg       0.58      0.83      0.58      5364\n",
      "weighted avg       0.96      0.81      0.87      5364\n",
      "\n"
     ]
    }
   ],
   "source": [
    "#print the confusion matrix and classifier scores for the model\n",
    "y_pred = nb.predict(X_test)\n",
    "confusion_matrix(y_test, y_pred)\n",
    "\n",
    "print(classification_report(y_test, y_pred))"
   ]
  },
  {
   "cell_type": "markdown",
   "metadata": {},
   "source": [
    "#### With no special modifications or parameter tunings on fixed parameters inputs, the Gaussian Naieve Bayes classifier achieves a accuracy score of 81%. "
   ]
  },
  {
   "cell_type": "code",
   "execution_count": 43,
   "metadata": {},
   "outputs": [
    {
     "name": "stdout",
     "output_type": "stream",
     "text": [
      "0 Classifier: ROC AUC=0.500\n",
      "NB Classifier: ROC AUC=0.831\n"
     ]
    },
    {
     "data": {
      "image/png": "[encoded data removed]",
      "text/plain": [
       "<Figure size 432x288 with 1 Axes>"
      ]
     },
     "metadata": {
      "needs_background": "light"
     },
     "output_type": "display_data"
    }
   ],
   "source": [
    "# plot the ROC curve and calculate the AUC\n",
    "# create a classifier that always picks 0 choice (to compare result to the classifier model)\n",
    "ns_probs = [0 for _ in range(len(y_test))]\n",
    "lr_probs = nb.predict_proba(X_test)\n",
    "\n",
    "# keep probabilities for the positive outcome only\n",
    "lr_probs = lr_probs[:, 1]\n",
    "\n",
    "# calculate scores\n",
    "ns_auc = roc_auc_score(y_test, ns_probs)\n",
    "lr_auc = roc_auc_score(y_test, lr_probs)\n",
    "\n",
    "# summarize scores\n",
    "print('0 Classifier: ROC AUC=%.3f' % (ns_auc))\n",
    "print('NB Classifier: ROC AUC=%.3f' % (lr_auc))\n",
    "\n",
    "# calculate roc curves\n",
    "ns_fpr, ns_tpr, _ = roc_curve(y_test, ns_probs)\n",
    "lr_fpr, lr_tpr, _ = roc_curve(y_test, lr_probs)\n",
    "\n",
    "# plot the roc curve for the model\n",
    "plt.plot(ns_fpr, ns_tpr, linestyle='--', label='0 Classifier')\n",
    "plt.plot(lr_fpr, lr_tpr, marker='.', label='NB Classifier')\n",
    "\n",
    "# axis labels\n",
    "plt.xlabel('False Positive Rate')\n",
    "plt.ylabel('True Positive Rate')\n",
    "\n",
    "# show the legend\n",
    "plt.legend()\n",
    "\n",
    "# show the plot\n",
    "plt.show()"
   ]
  },
  {
   "cell_type": "markdown",
   "metadata": {},
   "source": [
    "### Ada Boosting Classifier"
   ]
  },
  {
   "cell_type": "code",
   "execution_count": 40,
   "metadata": {},
   "outputs": [],
   "source": [
    "from sklearn.ensemble import AdaBoostClassifier"
   ]
  },
  {
   "cell_type": "code",
   "execution_count": 41,
   "metadata": {},
   "outputs": [
    {
     "name": "stdout",
     "output_type": "stream",
     "text": [
      "AdaBoostingClassifier took 1939.48 seconds\n",
      "Accuracy: 96.56%\n"
     ]
    }
   ],
   "source": [
    "num_trees = 100\n",
    "ada = AdaBoostClassifier(n_estimators=num_trees, random_state=16)\n",
    "start = time()\n",
    "ada.fit(X_train, y_train)\n",
    "results = cross_val_score(ada, X_train, y_train, cv=cv)\n",
    "print(\"AdaBoostingClassifier took %.2f seconds\"\n",
    "      % (time() - start,))\n",
    "print(f\"Accuracy: {round(results.mean()*100, 2)}%\")"
   ]
  },
  {
   "cell_type": "code",
   "execution_count": 45,
   "metadata": {},
   "outputs": [
    {
     "name": "stdout",
     "output_type": "stream",
     "text": [
      "Parameters:  {'algorithm': 'SAMME.R', 'base_estimator': None, 'learning_rate': 1.0, 'n_estimators': 100, 'random_state': 16}\n"
     ]
    }
   ],
   "source": [
    "print(\"Parameters: \", ada.get_params())"
   ]
  },
  {
   "cell_type": "code",
   "execution_count": 46,
   "metadata": {},
   "outputs": [
    {
     "data": {
      "text/html": [
       "<div>\n",
       "<style scoped>\n",
       "    .dataframe tbody tr th:only-of-type {\n",
       "        vertical-align: middle;\n",
       "    }\n",
       "\n",
       "    .dataframe tbody tr th {\n",
       "        vertical-align: top;\n",
       "    }\n",
       "\n",
       "    .dataframe thead th {\n",
       "        text-align: right;\n",
       "    }\n",
       "</style>\n",
       "<table border=\"1\" class=\"dataframe\">\n",
       "  <thead>\n",
       "    <tr style=\"text-align: right;\">\n",
       "      <th></th>\n",
       "      <th>importance</th>\n",
       "    </tr>\n",
       "  </thead>\n",
       "  <tbody>\n",
       "    <tr>\n",
       "      <th>has_company_logo</th>\n",
       "      <td>0.05</td>\n",
       "    </tr>\n",
       "    <tr>\n",
       "      <th>location_US, TX, Houston</th>\n",
       "      <td>0.02</td>\n",
       "    </tr>\n",
       "    <tr>\n",
       "      <th>employment_type_Full-time</th>\n",
       "      <td>0.02</td>\n",
       "    </tr>\n",
       "    <tr>\n",
       "      <th>industry_Hospital &amp; Health Care</th>\n",
       "      <td>0.02</td>\n",
       "    </tr>\n",
       "    <tr>\n",
       "      <th>location_US, CA, San Mateo</th>\n",
       "      <td>0.02</td>\n",
       "    </tr>\n",
       "    <tr>\n",
       "      <th>...</th>\n",
       "      <td>...</td>\n",
       "    </tr>\n",
       "    <tr>\n",
       "      <th>title_Junior Accounts Assistant</th>\n",
       "      <td>0.00</td>\n",
       "    </tr>\n",
       "    <tr>\n",
       "      <th>title_Junior Adwords/SEO Specialist</th>\n",
       "      <td>0.00</td>\n",
       "    </tr>\n",
       "    <tr>\n",
       "      <th>title_Junior Affiliate Manager</th>\n",
       "      <td>0.00</td>\n",
       "    </tr>\n",
       "    <tr>\n",
       "      <th>title_Junior Airframe Structures Design Engineer</th>\n",
       "      <td>0.00</td>\n",
       "    </tr>\n",
       "    <tr>\n",
       "      <th>function_Writing/Editing</th>\n",
       "      <td>0.00</td>\n",
       "    </tr>\n",
       "  </tbody>\n",
       "</table>\n",
       "<p>15863 rows × 1 columns</p>\n",
       "</div>"
      ],
      "text/plain": [
       "                                                  importance\n",
       "has_company_logo                                        0.05\n",
       "location_US, TX, Houston                                0.02\n",
       "employment_type_Full-time                               0.02\n",
       "industry_Hospital & Health Care                         0.02\n",
       "location_US, CA, San Mateo                              0.02\n",
       "...                                                      ...\n",
       "title_Junior Accounts Assistant                         0.00\n",
       "title_Junior Adwords/SEO Specialist                     0.00\n",
       "title_Junior Affiliate Manager                          0.00\n",
       "title_Junior Airframe Structures Design Engineer        0.00\n",
       "function_Writing/Editing                                0.00\n",
       "\n",
       "[15863 rows x 1 columns]"
      ]
     },
     "execution_count": 46,
     "metadata": {},
     "output_type": "execute_result"
    }
   ],
   "source": [
    "#obtain the relative feature importance of the rf classifier\n",
    "feature_imp = pd.DataFrame(ada.feature_importances_, index=X_train.columns,\n",
    "columns=['importance']).sort_values('importance', ascending=False)\n",
    "feature_imp"
   ]
  },
  {
   "cell_type": "code",
   "execution_count": 42,
   "metadata": {},
   "outputs": [
    {
     "name": "stdout",
     "output_type": "stream",
     "text": [
      "              precision    recall  f1-score   support\n",
      "\n",
      "           0       0.98      0.99      0.99      5143\n",
      "           1       0.74      0.46      0.57       221\n",
      "\n",
      "    accuracy                           0.97      5364\n",
      "   macro avg       0.86      0.73      0.78      5364\n",
      "weighted avg       0.97      0.97      0.97      5364\n",
      "\n"
     ]
    }
   ],
   "source": [
    "#print the confusion matrix and classifier scores for the model\n",
    "y_pred = ada.predict(X_test)\n",
    "confusion_matrix(y_test, y_pred)\n",
    "\n",
    "print(classification_report(y_test, y_pred))"
   ]
  },
  {
   "cell_type": "markdown",
   "metadata": {},
   "source": [
    "#### With no special modifications or parameter tunings on fixed parameters inputs, the Ada Boosting classifier achieves a accuracy score of 96.56%."
   ]
  },
  {
   "cell_type": "code",
   "execution_count": 44,
   "metadata": {},
   "outputs": [
    {
     "name": "stdout",
     "output_type": "stream",
     "text": [
      "0 Classifier: ROC AUC=0.500\n",
      "ADA Classifier: ROC AUC=0.930\n"
     ]
    },
    {
     "data": {
      "image/png": "[encoded data removed]",
      "text/plain": [
       "<Figure size 432x288 with 1 Axes>"
      ]
     },
     "metadata": {
      "needs_background": "light"
     },
     "output_type": "display_data"
    }
   ],
   "source": [
    "# plot the ROC curve and calculate the AUC\n",
    "# create a classifier that always picks 0 choice (to compare result to the classifier model)\n",
    "ns_probs = [0 for _ in range(len(y_test))]\n",
    "lr_probs = ada.predict_proba(X_test)\n",
    "\n",
    "# keep probabilities for the positive outcome only\n",
    "lr_probs = lr_probs[:, 1]\n",
    "\n",
    "# calculate scores\n",
    "ns_auc = roc_auc_score(y_test, ns_probs)\n",
    "lr_auc = roc_auc_score(y_test, lr_probs)\n",
    "\n",
    "# summarize scores\n",
    "print('0 Classifier: ROC AUC=%.3f' % (ns_auc))\n",
    "print('ADA Classifier: ROC AUC=%.3f' % (lr_auc))\n",
    "\n",
    "# calculate roc curves\n",
    "ns_fpr, ns_tpr, _ = roc_curve(y_test, ns_probs)\n",
    "lr_fpr, lr_tpr, _ = roc_curve(y_test, lr_probs)\n",
    "\n",
    "# plot the roc curve for the model\n",
    "plt.plot(ns_fpr, ns_tpr, linestyle='--', label='0 Classifier')\n",
    "plt.plot(lr_fpr, lr_tpr, marker='.', label='ADA Classifier')\n",
    "\n",
    "# axis labels\n",
    "plt.xlabel('False Positive Rate')\n",
    "plt.ylabel('True Positive Rate')\n",
    "\n",
    "# show the legend\n",
    "plt.legend()\n",
    "\n",
    "# show the plot\n",
    "plt.show()"
   ]
  },
  {
   "cell_type": "markdown",
   "metadata": {},
   "source": [
    "### Tracking Model Performance\n",
    "#### Here I am documenting the accuracy scores captured for each of the models when running on the train/test data split. As can be seen in the chart below, the ensemble and KNN models generally performed the best, however the NB classifier also performed comparably. Scores below are the weighted average accuracy.\n",
    "\n",
    "|Model Name|Type|Optimizer/Param selection|Cross-validation|Accuracy score|\n",
    "|:--|:--|:--|:--|:--|\n",
    "|rfc|Random Forest Classifier|num_estimators=100, criterion=gini, boostrap=true|N/A|98.0|\n",
    "|rfc|Random Forest Classifier With CV|num_estimators=100,criterion=gini, boostrap=true|Shuffle-Split, KFold|97.73|\n",
    "|knn|K Nearest Neighbors Classifier|k_neighbors=5|N/A|98.0|\n",
    "|ada|Ada Boosting Classifier|num_trees=100|N/A|96.56|\n",
    "|nb|Gaussian Naieve Bayes Classifier|N/A|N/A|81.0|\n"
   ]
  },
  {
   "cell_type": "markdown",
   "metadata": {},
   "source": [
    "# Conclusions\n",
    "\n",
    "### Ensemble learning methods Random Forest and Ada Boosting work well on this data set due to the relative predictive power of the categorical features in the data and also that they are uncorrelated, so the individual decision trees can operate relatively independently to increase the total accuracy gain.\n",
    "\n",
    "### Likewise K Nearest Neighbors with a K=5 achieved satisfactory results.  Again I think the KNN classifier performs well because there are certain features similarities shared between the true and fake job ads that make it possible for the KNN classifier to make an accurate prediction.\n",
    "\n",
    "### Gaussian Naieve Bayes performed with a relatively high accuracy but not as high as the prior models; this I believe is more to the structure of the data (not in a normally distributed format) making it so that the NB classifier may not be as well-suited a model for this structure data. "
   ]
  }
 ],
 "metadata": {
  "kernelspec": {
   "display_name": "Python 3",
   "language": "python",
   "name": "python3"
  },
  "language_info": {
   "codemirror_mode": {
    "name": "ipython",
    "version": 3
   },
   "file_extension": ".py",
   "mimetype": "text/x-python",
   "name": "python",
   "nbconvert_exporter": "python",
   "pygments_lexer": "ipython3",
   "version": "3.7.6"
  }
 },
 "nbformat": 4,
 "nbformat_minor": 4
}
